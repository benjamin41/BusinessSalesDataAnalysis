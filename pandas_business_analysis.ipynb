{
 "cells": [
  {
   "cell_type": "code",
   "execution_count": 192,
   "metadata": {},
   "outputs": [],
   "source": [
    "import pandas as pd\n",
    "import datetime \n",
    "import matplotlib.pyplot as plt\n",
    "import numpy as np\n",
    "import re #to extract substrings\n",
    "import os #to use os.listdir"
   ]
  },
  {
   "cell_type": "markdown",
   "metadata": {},
   "source": [
    "### Preliminary work: Merging 12 monts of sales into one data frame"
   ]
  },
  {
   "cell_type": "code",
   "execution_count": 195,
   "metadata": {},
   "outputs": [
    {
     "data": {
      "text/html": [
       "<div>\n",
       "<style scoped>\n",
       "    .dataframe tbody tr th:only-of-type {\n",
       "        vertical-align: middle;\n",
       "    }\n",
       "\n",
       "    .dataframe tbody tr th {\n",
       "        vertical-align: top;\n",
       "    }\n",
       "\n",
       "    .dataframe thead th {\n",
       "        text-align: right;\n",
       "    }\n",
       "</style>\n",
       "<table border=\"1\" class=\"dataframe\">\n",
       "  <thead>\n",
       "    <tr style=\"text-align: right;\">\n",
       "      <th></th>\n",
       "      <th>Order ID</th>\n",
       "      <th>Product</th>\n",
       "      <th>Quantity Ordered</th>\n",
       "      <th>Price Each</th>\n",
       "      <th>Order Date</th>\n",
       "      <th>Purchase Address</th>\n",
       "    </tr>\n",
       "  </thead>\n",
       "  <tbody>\n",
       "    <tr>\n",
       "      <th>0</th>\n",
       "      <td>176558</td>\n",
       "      <td>USB-C Charging Cable</td>\n",
       "      <td>2</td>\n",
       "      <td>11.95</td>\n",
       "      <td>04/19/19 08:46</td>\n",
       "      <td>917 1st St, Dallas, TX 75001</td>\n",
       "    </tr>\n",
       "    <tr>\n",
       "      <th>1</th>\n",
       "      <td>NaN</td>\n",
       "      <td>NaN</td>\n",
       "      <td>NaN</td>\n",
       "      <td>NaN</td>\n",
       "      <td>NaN</td>\n",
       "      <td>NaN</td>\n",
       "    </tr>\n",
       "    <tr>\n",
       "      <th>2</th>\n",
       "      <td>176559</td>\n",
       "      <td>Bose SoundSport Headphones</td>\n",
       "      <td>1</td>\n",
       "      <td>99.99</td>\n",
       "      <td>04/07/19 22:30</td>\n",
       "      <td>682 Chestnut St, Boston, MA 02215</td>\n",
       "    </tr>\n",
       "    <tr>\n",
       "      <th>3</th>\n",
       "      <td>176560</td>\n",
       "      <td>Google Phone</td>\n",
       "      <td>1</td>\n",
       "      <td>600</td>\n",
       "      <td>04/12/19 14:38</td>\n",
       "      <td>669 Spruce St, Los Angeles, CA 90001</td>\n",
       "    </tr>\n",
       "    <tr>\n",
       "      <th>4</th>\n",
       "      <td>176560</td>\n",
       "      <td>Wired Headphones</td>\n",
       "      <td>1</td>\n",
       "      <td>11.99</td>\n",
       "      <td>04/12/19 14:38</td>\n",
       "      <td>669 Spruce St, Los Angeles, CA 90001</td>\n",
       "    </tr>\n",
       "  </tbody>\n",
       "</table>\n",
       "</div>"
      ],
      "text/plain": [
       "  Order ID                     Product Quantity Ordered Price Each  \\\n",
       "0   176558        USB-C Charging Cable                2      11.95   \n",
       "1      NaN                         NaN              NaN        NaN   \n",
       "2   176559  Bose SoundSport Headphones                1      99.99   \n",
       "3   176560                Google Phone                1        600   \n",
       "4   176560            Wired Headphones                1      11.99   \n",
       "\n",
       "       Order Date                      Purchase Address  \n",
       "0  04/19/19 08:46          917 1st St, Dallas, TX 75001  \n",
       "1             NaN                                   NaN  \n",
       "2  04/07/19 22:30     682 Chestnut St, Boston, MA 02215  \n",
       "3  04/12/19 14:38  669 Spruce St, Los Angeles, CA 90001  \n",
       "4  04/12/19 14:38  669 Spruce St, Los Angeles, CA 90001  "
      ]
     },
     "execution_count": 195,
     "metadata": {},
     "output_type": "execute_result"
    }
   ],
   "source": [
    "# My solution\n",
    "Sales_January_2019 = pd.read_csv(\"Sales_Data\\Sales_January_2019.csv\")\n",
    "Sales_February_2019 = pd.read_csv(\"Sales_Data\\Sales_February_2019.csv\")\n",
    "Sales_March_2019 = pd.read_csv(\"Sales_Data\\Sales_March_2019.csv\")\n",
    "Sales_April_2019 = pd.read_csv(\"Sales_Data\\Sales_April_2019.csv\")\n",
    "Sales_May_2019 = pd.read_csv(\"Sales_Data\\Sales_May_2019.csv\")\n",
    "Sales_June_2019 = pd.read_csv(\"Sales_Data\\Sales_June_2019.csv\")\n",
    "Sales_July_2019 = pd.read_csv(\"Sales_Data\\Sales_July_2019.csv\")\n",
    "Sales_August_2019 = pd.read_csv(\"Sales_Data\\Sales_August_2019.csv\")\n",
    "Sales_September_2019 = pd.read_csv(\"Sales_Data\\Sales_September_2019.csv\")\n",
    "Sales_October_2019 = pd.read_csv(\"Sales_Data\\Sales_October_2019.csv\")\n",
    "Sales_November_2019 = pd.read_csv(\"Sales_Data\\Sales_November_2019.csv\")\n",
    "Sales_December_2019 = pd.read_csv(\"Sales_Data\\Sales_December_2019.csv\")\n",
    "\n",
    "Sales_Year2019 = pd.concat([\n",
    "    Sales_January_2019, \n",
    "    Sales_February_2019, \n",
    "    Sales_March_2019,\n",
    "    Sales_April_2019,\n",
    "    Sales_May_2019,\n",
    "    Sales_June_2019,\n",
    "    Sales_July_2019,\n",
    "    Sales_August_2019,\n",
    "    Sales_September_2019,\n",
    "    Sales_October_2019,\n",
    "    Sales_November_2019,\n",
    "    Sales_December_2019\n",
    "])\n",
    "\n",
    "# ---------------------------------------------------\n",
    "# THE solution: much more concise...\n",
    "files = [file for file in os.listdir(\"./Sales_Data\")]# good use of relative path..\n",
    "\n",
    "all_months_data = pd.DataFrame() #Declaration of a Dataframe of variable size...\n",
    "\n",
    "for file in files:\n",
    "    df = pd.read_csv(\"./Sales_Data/\"+file)\n",
    "    all_months_data = pd.concat([all_months_data, df])\n",
    "    \n",
    "all_months_data.head()\n"
   ]
  },
  {
   "cell_type": "code",
   "execution_count": 196,
   "metadata": {},
   "outputs": [
    {
     "name": "stdout",
     "output_type": "stream",
     "text": [
      "My solution: # of lines 186850; # of columns 186850\n",
      "THE solution: # of lines 186850; # of columns 186850\n"
     ]
    }
   ],
   "source": [
    "print(\"My solution: # of lines \"+str(Sales_Year2019.shape[0])+ \"; # of columns \"+str(Sales_Year2019.shape[0]))\n",
    "print(\"THE solution: # of lines \"+str(all_months_data.shape[0])+ \"; # of columns \"+str(all_months_data.shape[0]))\n",
    "\n",
    "#THE solution is much more concise, but mine works too!"
   ]
  },
  {
   "cell_type": "code",
   "execution_count": 197,
   "metadata": {},
   "outputs": [
    {
     "data": {
      "text/html": [
       "<div>\n",
       "<style scoped>\n",
       "    .dataframe tbody tr th:only-of-type {\n",
       "        vertical-align: middle;\n",
       "    }\n",
       "\n",
       "    .dataframe tbody tr th {\n",
       "        vertical-align: top;\n",
       "    }\n",
       "\n",
       "    .dataframe thead th {\n",
       "        text-align: right;\n",
       "    }\n",
       "</style>\n",
       "<table border=\"1\" class=\"dataframe\">\n",
       "  <thead>\n",
       "    <tr style=\"text-align: right;\">\n",
       "      <th></th>\n",
       "      <th>Order ID</th>\n",
       "      <th>Product</th>\n",
       "      <th>Quantity Ordered</th>\n",
       "      <th>Price Each</th>\n",
       "      <th>Order Date</th>\n",
       "      <th>Purchase Address</th>\n",
       "    </tr>\n",
       "  </thead>\n",
       "  <tbody>\n",
       "    <tr>\n",
       "      <th>0</th>\n",
       "      <td>176558</td>\n",
       "      <td>USB-C Charging Cable</td>\n",
       "      <td>2</td>\n",
       "      <td>11.95</td>\n",
       "      <td>04/19/19 08:46</td>\n",
       "      <td>917 1st St, Dallas, TX 75001</td>\n",
       "    </tr>\n",
       "    <tr>\n",
       "      <th>1</th>\n",
       "      <td>NaN</td>\n",
       "      <td>NaN</td>\n",
       "      <td>NaN</td>\n",
       "      <td>NaN</td>\n",
       "      <td>NaN</td>\n",
       "      <td>NaN</td>\n",
       "    </tr>\n",
       "    <tr>\n",
       "      <th>2</th>\n",
       "      <td>176559</td>\n",
       "      <td>Bose SoundSport Headphones</td>\n",
       "      <td>1</td>\n",
       "      <td>99.99</td>\n",
       "      <td>04/07/19 22:30</td>\n",
       "      <td>682 Chestnut St, Boston, MA 02215</td>\n",
       "    </tr>\n",
       "    <tr>\n",
       "      <th>3</th>\n",
       "      <td>176560</td>\n",
       "      <td>Google Phone</td>\n",
       "      <td>1</td>\n",
       "      <td>600</td>\n",
       "      <td>04/12/19 14:38</td>\n",
       "      <td>669 Spruce St, Los Angeles, CA 90001</td>\n",
       "    </tr>\n",
       "    <tr>\n",
       "      <th>4</th>\n",
       "      <td>176560</td>\n",
       "      <td>Wired Headphones</td>\n",
       "      <td>1</td>\n",
       "      <td>11.99</td>\n",
       "      <td>04/12/19 14:38</td>\n",
       "      <td>669 Spruce St, Los Angeles, CA 90001</td>\n",
       "    </tr>\n",
       "  </tbody>\n",
       "</table>\n",
       "</div>"
      ],
      "text/plain": [
       "  Order ID                     Product Quantity Ordered Price Each  \\\n",
       "0   176558        USB-C Charging Cable                2      11.95   \n",
       "1      NaN                         NaN              NaN        NaN   \n",
       "2   176559  Bose SoundSport Headphones                1      99.99   \n",
       "3   176560                Google Phone                1        600   \n",
       "4   176560            Wired Headphones                1      11.99   \n",
       "\n",
       "       Order Date                      Purchase Address  \n",
       "0  04/19/19 08:46          917 1st St, Dallas, TX 75001  \n",
       "1             NaN                                   NaN  \n",
       "2  04/07/19 22:30     682 Chestnut St, Boston, MA 02215  \n",
       "3  04/12/19 14:38  669 Spruce St, Los Angeles, CA 90001  \n",
       "4  04/12/19 14:38  669 Spruce St, Los Angeles, CA 90001  "
      ]
     },
     "execution_count": 197,
     "metadata": {},
     "output_type": "execute_result"
    }
   ],
   "source": [
    "all_months_data.to_csv(\"./csv_exports/all_data.csv\", index = False)\n",
    "all_data = pd.read_csv(\"./csv_exports/all_data.csv\")\n",
    "all_data.head()"
   ]
  },
  {
   "cell_type": "markdown",
   "metadata": {},
   "source": [
    "### Question 1: What was the best month for sales? How much was earned that month?"
   ]
  },
  {
   "cell_type": "code",
   "execution_count": 198,
   "metadata": {},
   "outputs": [
    {
     "data": {
      "text/plain": [
       "Order Date Month\n",
       "12    4.613443e+06\n",
       "Name: Total Revenue, dtype: float64"
      ]
     },
     "execution_count": 198,
     "metadata": {},
     "output_type": "execute_result"
    }
   ],
   "source": [
    "# first step: move all the data in a df we'll use/modify for this first analysis\n",
    "df = all_data\n",
    "\n",
    "# step 2: clean df, cause it contains a loooot of things that needs to be cleansed...\n",
    "# 2.1: remove the empty rows\n",
    "df = df.dropna(how='all')\n",
    "# 2.2: remove the rows containing ['Order ID', 'Product', 'Quantitiy Ordered', ....]\n",
    "df = df.drop(df[df[\"Order ID\"] == \"Order ID\"].index)\n",
    "# 2.3: convert to float, the values we're going to work with\n",
    "df[\"Quantity Ordered\"] = df[\"Quantity Ordered\"].astype('float')\n",
    "df[\"Price Each\"] = df[\"Price Each\"].astype('float')\n",
    "# 2.4: Get the revenue by multiplying Quantity Ordered & Price Each\n",
    "df[\"Total Revenue\"] = df[\"Quantity Ordered\"].multiply(df[\"Price Each\"], fill_value=0)\n",
    "# 2.5: Convert the \"order date\" column to a dateformat. Then store the month\n",
    "# https://docs.python.org/2/library/datetime.html#strftime-and-strptime-behavior\n",
    "df['Order Date']=pd.to_datetime(df['Order Date'], format=\"%m/%d/%y %H:%M\")\n",
    "df['Order Date Month'] = df['Order Date'].dt.month\n",
    "# Final Step: group by Month and sort by descending to get the best month on top\n",
    "best_month = pd.Series(df.groupby([\"Order Date Month\"])[\"Total Revenue\"].sum())\n",
    "best_month.sort_values(ascending=False).head(1)\n",
    "\n",
    "# df.to_csv(\"./Sales_Data/to_csv_exports/all_data_cleansed.csv\")\n",
    "# df.head()\n",
    "# df.dtypes\n",
    "\n",
    "# unformated_date = \"04/19/19 08:46\"    \n",
    "# print( datetime.datetime.strptime(unformated_date, \"%m/%d/%y %I:%M\").strftime('%y-%m-%d') )\n",
    "\n",
    "#-------------------------------------------------\n",
    "# String values in the Quantity Ordered column that need to be removed\n",
    "# df[\"Quantity Ordered\"][df[\"Quantity Ordered\"].values == \"Quantity Ordered\"]\n",
    "\n",
    "\n",
    "\n",
    "# df[\"Quantity Ordered\"].loc[0:] = df[\"Quantity Ordered\"].loc[0:].astype('float')\n",
    "#step 3: remove the header row to prepare the conversion\n",
    "# df[\"Quantity Ordered\"] = df[\"2\"][df[\"2\"].values != \"Quantity Ordered\"].astype('float',errors='ignore')\n",
    "# df[\"Quantity Orderer\"] = df[\"2\"][df[\"2\"].values != \"Quantity Ordered\"].astype('float',errors='ignore')\n",
    "\n",
    "\n",
    "# df[\"Quantity Ordered\"].multiply(df[\"Quantity Ordered\"], fill_value=0)\n",
    "# df[\"Quantity Ordered\"].astype('int')\n",
    "# df[\"Quantity Ordered\"] = df[\"Quantity Ordered\"].dropna()\n",
    "# df[\"Quantity Ordered\"][df[\"Quantity Ordered\"].isnull() == True]"
   ]
  },
  {
   "cell_type": "markdown",
   "metadata": {},
   "source": [
    "### My Answer to Q1: the best month is December, with a revenue of approximately 4613443 usd... \n",
    "- As you can see, there still needs to be a little bit of formatting to the data in the revenue columns, but for now, let's not touch it, as it's gonna be easier to manipulate as float... (but in case you'd like to try later, here's a link to do so: https://stackoverflow.com/questions/35019156/pandas-format-column-as-currency)\n",
    "- I'm just going to export the cleansed version of all_data..."
   ]
  },
  {
   "cell_type": "code",
   "execution_count": 199,
   "metadata": {},
   "outputs": [],
   "source": [
    "df.to_csv(\"./csv_exports/all_data_cleansed_w_month.csv\")"
   ]
  },
  {
   "cell_type": "markdown",
   "metadata": {},
   "source": [
    "### THE answer to Q1: I actually found the same result, in a cleaner way I feel like...\n",
    "so this time, no need to copy the solution for this question. Let's follow the video and plot the barchart of the sales througout the year..."
   ]
  },
  {
   "cell_type": "code",
   "execution_count": 200,
   "metadata": {},
   "outputs": [
    {
     "data": {
      "image/png": "[encoded data removed]",
      "text/plain": [
       "<Figure size 432x288 with 1 Axes>"
      ]
     },
     "metadata": {
      "needs_background": "light"
     },
     "output_type": "display_data"
    }
   ],
   "source": [
    "# step 1: create an \"array\" with numbers from 1 to 12\n",
    "# months = range(1,13)\n",
    "# months[11]\n",
    "# plt.bar(months, re)\n",
    "\n",
    "\n",
    "\n",
    "months = np.arange(start=1, stop=13, step=1)\n",
    "plt.bar(months, best_month, label= 'Year 2019')\n",
    "plt.title(\"Sales per Months across the year\")\n",
    "plt.xlabel(\"Month\")\n",
    "plt.ylabel(\"Revenue (in Millions)\")\n",
    "plt.legend()\n",
    "plt.show()\n"
   ]
  },
  {
   "cell_type": "markdown",
   "metadata": {},
   "source": [
    "### Question 2: What city had the highest number of sales?"
   ]
  },
  {
   "cell_type": "code",
   "execution_count": 201,
   "metadata": {},
   "outputs": [
    {
     "data": {
      "text/plain": [
       "State Initials\n",
       "CA    1.371477e+07\n",
       "Name: Total Revenue, dtype: float64"
      ]
     },
     "execution_count": 201,
     "metadata": {},
     "output_type": "execute_result"
    }
   ],
   "source": [
    "# We want to create a new field, that'll contain the State information\n",
    "# step 1: from the \"Purchase Address\" column, extract the city info (city suffix will be enough here...)\n",
    "df[\"State Initials\"] = df['Purchase Address'].str[-8:-6]\n",
    "\n",
    "# step 2: group by again (by \"city initials\")\n",
    "best_city = pd.Series(df.groupby([\"State Initials\"])[\"Total Revenue\"].sum())\n",
    "best_city.sort_values(ascending=False).head(1)\n"
   ]
  },
  {
   "cell_type": "markdown",
   "metadata": {},
   "source": [
    "### My Answer to Q2: the best city is California, with a revenue of approximately 1.3 Million usd... \n",
    "- like before, we could arrange the data, so that the display is in clean USD...\n",
    "- but for now, I'm just going to export again these data"
   ]
  },
  {
   "cell_type": "code",
   "execution_count": 203,
   "metadata": {},
   "outputs": [],
   "source": [
    "df.to_csv(\"./csv_exports/all_data_cleansed_w_States.csv\")"
   ]
  },
  {
   "cell_type": "markdown",
   "metadata": {},
   "source": [
    "### THE answer: is pretty interesting because it's using a lambda fct in the .apply method\n",
    "- Plus I'm actually using states insted of cities like it was asked, I'm renaming/modifying what needs to be monified and let's continue"
   ]
  },
  {
   "cell_type": "code",
   "execution_count": 204,
   "metadata": {},
   "outputs": [
    {
     "data": {
      "text/plain": [
       "City\n",
       "San Francisco    8.262204e+06\n",
       "Name: Total Revenue, dtype: float64"
      ]
     },
     "execution_count": 204,
     "metadata": {},
     "output_type": "execute_result"
    }
   ],
   "source": [
    "# We want to create a new field, that'll contain the city information\n",
    "# step 1: from the \"Purchase Address\" column, extract the city info (city suffix will be enough here...)\n",
    "# regexPattern is the regular expression that says, give me Boston in this string \"xx, Boston, xxx\"\n",
    "df[\"City\"] = df['Purchase Address']\n",
    "regexPattern = \",\\ (.*?)\\, \"\n",
    "# Create a function that's going to extract the city information\n",
    "def extractCity(Xseries, Yseries, regexPattern):\n",
    "    for x in Xseries:\n",
    "        substring = re.search(pattern, x).group(1)\n",
    "        Yseries.append(substring)\n",
    "    return Yseries\n",
    "\n",
    "Yseries = []\n",
    "Yseries = extractCity(df[\"City\"], Yseries, pattern)\n",
    "\n",
    "# Affect the city values in df\n",
    "df[\"City\"] = Yseries\n",
    "\n",
    "\n",
    "# step 2: group by again (by \"city initials\")\n",
    "best_city = pd.Series(df.groupby([\"City\"])[\"Total Revenue\"].sum())\n",
    "best_city.sort_values(ascending=False).head(1)"
   ]
  },
  {
   "cell_type": "markdown",
   "metadata": {},
   "source": [
    "###  I end up with the same answer as the solution: \n",
    "- San Fransisco is the city with the best sales\n",
    "- Again, I'm exporting this new version of my dataset\n",
    "- And I'm plotting the whole thing"
   ]
  },
  {
   "cell_type": "code",
   "execution_count": 206,
   "metadata": {},
   "outputs": [],
   "source": [
    "df.to_csv(\"./csv_exports/all_data_cleansed_w_Cities.csv\")"
   ]
  },
  {
   "cell_type": "code",
   "execution_count": 227,
   "metadata": {},
   "outputs": [
    {
     "data": {
      "image/png": "[encoded data removed]",
      "text/plain": [
       "<Figure size 1296x360 with 1 Axes>"
      ]
     },
     "metadata": {
      "needs_background": "light"
     },
     "output_type": "display_data"
    }
   ],
   "source": [
    "best_city.index\n",
    "best_city.values\n",
    "f, ax = plt.subplots(figsize=(18,5)) #to set up the size of the figure\n",
    "plt.bar(best_city.index, best_city.values, label= 'Year 2019', color = \"green\")\n",
    "plt.title(\"Sales per Cities across the year\")\n",
    "plt.xlabel(\"Cities\")\n",
    "plt.ylabel(\"Revenue (in Millions)\")\n",
    "plt.legend()\n",
    "plt.show()\n",
    "\n",
    "# best_city = best_city.value_counts()\n",
    "# best_city\n",
    "# pd.Series(df.groupby([\"City Initials\"], as_index=False)[\"Total Revenue\"].sum())\n",
    "# best_city\n",
    "# city = best_city.index\n",
    "# city\n",
    "# plt.bar(city, best_month, label= 'Year 2019')\n",
    "# plt.title(\"Sales per Cities across the year\")\n",
    "# plt.xlabel(\"Cities\")\n",
    "# plt.ylabel(\"Revenue (in Millions)\")\n",
    "# plt.legend()\n",
    "# plt.show()"
   ]
  },
  {
   "cell_type": "code",
   "execution_count": null,
   "metadata": {},
   "outputs": [],
   "source": []
  }
 ],
 "metadata": {
  "kernelspec": {
   "display_name": "Python 3",
   "language": "python",
   "name": "python3"
  },
  "language_info": {
   "codemirror_mode": {
    "name": "ipython",
    "version": 3
   },
   "file_extension": ".py",
   "mimetype": "text/x-python",
   "name": "python",
   "nbconvert_exporter": "python",
   "pygments_lexer": "ipython3",
   "version": "3.8.5"
  }
 },
 "nbformat": 4,
 "nbformat_minor": 4
}
